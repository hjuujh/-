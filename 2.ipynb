{
  "nbformat": 4,
  "nbformat_minor": 0,
  "metadata": {
    "colab": {
      "name": "2.ipynb",
      "provenance": [],
      "authorship_tag": "ABX9TyNgi4Lr4uBBJgwdFIU02rej",
      "include_colab_link": true
    },
    "kernelspec": {
      "name": "python3",
      "display_name": "Python 3"
    }
  },
  "cells": [
    {
      "cell_type": "markdown",
      "metadata": {
        "id": "view-in-github",
        "colab_type": "text"
      },
      "source": [
        "<a href=\"https://colab.research.google.com/github/hjuuujh/-/blob/master/2.ipynb\" target=\"_parent\"><img src=\"https://colab.research.google.com/assets/colab-badge.svg\" alt=\"Open In Colab\"/></a>"
      ]
    },
    {
      "cell_type": "code",
      "metadata": {
        "id": "DusQWWTXFgje",
        "colab_type": "code",
        "colab": {}
      },
      "source": [
        "!pip install kaggle\n",
        "from google.colab import files\n",
        "files.upload()"
      ],
      "execution_count": 0,
      "outputs": []
    },
    {
      "cell_type": "code",
      "metadata": {
        "id": "CHbPMmyHFi6F",
        "colab_type": "code",
        "colab": {}
      },
      "source": [
        "ls -1ha kaggle.json"
      ],
      "execution_count": 0,
      "outputs": []
    },
    {
      "cell_type": "code",
      "metadata": {
        "id": "5xKBbzq_FjJp",
        "colab_type": "code",
        "colab": {}
      },
      "source": [
        "!mkdir -p ~/.kaggle\n",
        "!cp kaggle.json ~/.kaggle/\n",
        "!chmod 600 ~/.kaggle/kaggle.json"
      ],
      "execution_count": 0,
      "outputs": []
    },
    {
      "cell_type": "code",
      "metadata": {
        "id": "Y1jIkWaFFjRb",
        "colab_type": "code",
        "colab": {}
      },
      "source": [
        "!kaggle datasets download -d praveengovi/coronahack-chest-xraydataset"
      ],
      "execution_count": 0,
      "outputs": []
    },
    {
      "cell_type": "code",
      "metadata": {
        "id": "sIhKq2rRFjYV",
        "colab_type": "code",
        "colab": {}
      },
      "source": [
        "!ls"
      ],
      "execution_count": 0,
      "outputs": []
    },
    {
      "cell_type": "code",
      "metadata": {
        "id": "Xr1b7-V6Fjga",
        "colab_type": "code",
        "colab": {}
      },
      "source": [
        "!unzip coronahack-chest-xraydataset.zip"
      ],
      "execution_count": 0,
      "outputs": []
    },
    {
      "cell_type": "code",
      "metadata": {
        "id": "QxpxVfjsFjoN",
        "colab_type": "code",
        "colab": {}
      },
      "source": [
        "import os\n",
        "import numpy as np\n",
        "import torch\n",
        "from PIL import Image"
      ],
      "execution_count": 0,
      "outputs": []
    },
    {
      "cell_type": "code",
      "metadata": {
        "id": "YdyJL_COFvNc",
        "colab_type": "code",
        "colab": {}
      },
      "source": [
        "train_path='Coronahack-Chest-XRay-Dataset/Coronahack-Chest-XRay-Dataset/train/'\n",
        "test_path='Coronahack-Chest-XRay-Dataset/Coronahack-Chest-XRay-Dataset/test/'"
      ],
      "execution_count": 0,
      "outputs": []
    },
    {
      "cell_type": "code",
      "metadata": {
        "id": "mUX6lpLaFvd4",
        "colab_type": "code",
        "colab": {}
      },
      "source": [
        "train_files=np.array(os.listdir(train_path))\n",
        "print(train_files[0:10])\n",
        "\n",
        "idx1=[]\n",
        "i=0\n",
        "for i in range(len(train_files)):\n",
        "  if train_files[i][0:2]=='IM':\n",
        "    idx1.append(i)\n",
        "train_files=np.delete(train_files, idx1)\n",
        "print(train_files[0:10])\n",
        "\n",
        "idx2=[]\n",
        "j=0\n",
        "for j in range(len(train_files)):\n",
        "  if train_files[j][0:2]=='NO':\n",
        "    idx2.append(j)\n",
        "train_files=np.delete(train_files, idx2)\n",
        "print(train_files[0:10])"
      ],
      "execution_count": 0,
      "outputs": []
    },
    {
      "cell_type": "code",
      "metadata": {
        "id": "Y24Kz--mFvlY",
        "colab_type": "code",
        "colab": {}
      },
      "source": [
        "test_files=np.array(os.listdir(test_path))\n",
        "print(test_files[0:10])\n",
        "\n",
        "idx1=[]\n",
        "i=0\n",
        "for i in range(len(test_files)):\n",
        "  if test_files[i][0:2]=='IM':\n",
        "    idx1.append(i)\n",
        "test_files=np.delete(test_files, idx1)\n",
        "print(test_files[0:10])\n",
        "\n",
        "idx2=[]\n",
        "j=0\n",
        "for j in range(len(test_files)):\n",
        "  if test_files[j][0:2]=='NO':\n",
        "    idx2.append(j)\n",
        "test_files=np.delete(test_files, idx2)\n",
        "print(test_files[0:10])"
      ],
      "execution_count": 0,
      "outputs": []
    },
    {
      "cell_type": "code",
      "metadata": {
        "id": "u_g0fF9lGBsj",
        "colab_type": "code",
        "colab": {}
      },
      "source": [
        "data=[]\n",
        "\n",
        "for f in test_files:\n",
        "  img = Image.open(test_path + f).convert(\"LA\")\n",
        "  resize_img = img.resize((128, 128))\n",
        "  re_img_arr=np.asarray(resize_img)/255.0\n",
        "  data.append(re_img_arr)\n",
        "\n",
        "print(np.array(data).shape)"
      ],
      "execution_count": 0,
      "outputs": []
    },
    {
      "cell_type": "code",
      "metadata": {
        "id": "4Ak0Hhg0GB1w",
        "colab_type": "code",
        "colab": {}
      },
      "source": [
        "for f in train_files:\n",
        "  img = Image.open(train_path + f).convert(\"LA\")\n",
        "  resize_img = img.resize((128, 128))\n",
        "  re_img_arr=np.asarray(resize_img)/255.0\n",
        "  data.append(re_img_arr)\n",
        "\n",
        "data=np.array(data)\n",
        "print(data.shape)"
      ],
      "execution_count": 0,
      "outputs": []
    },
    {
      "cell_type": "markdown",
      "metadata": {
        "id": "fWRacg0K1-zT",
        "colab_type": "text"
      },
      "source": [
        "- discussion에 train set이랑 test set 다시 split하라고 제시되어있음\n",
        "- validation set은 어떻게 할지\n",
        "- label 작성 필요"
      ]
    }
  ]
}