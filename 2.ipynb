{
  "nbformat": 4,
  "nbformat_minor": 0,
  "metadata": {
    "colab": {
      "name": "2.ipynb",
      "provenance": [],
      "collapsed_sections": [],
      "authorship_tag": "ABX9TyMI8V+ayw+LJLBr1eZwmRZQ",
      "include_colab_link": true
    },
    "kernelspec": {
      "name": "python3",
      "display_name": "Python 3"
    }
  },
  "cells": [
    {
      "cell_type": "markdown",
      "metadata": {
        "id": "view-in-github",
        "colab_type": "text"
      },
      "source": [
        "<a href=\"https://colab.research.google.com/github/hjuuujh/-/blob/master/2.ipynb\" target=\"_parent\"><img src=\"https://colab.research.google.com/assets/colab-badge.svg\" alt=\"Open In Colab\"/></a>"
      ]
    },
    {
      "cell_type": "code",
      "metadata": {
        "id": "DusQWWTXFgje",
        "colab_type": "code",
        "colab": {}
      },
      "source": [
        "#데이터 다운위해 캐글 연결\n",
        "!pip install kaggle\n",
        "from google.colab import files\n",
        "files.upload()"
      ],
      "execution_count": 0,
      "outputs": []
    },
    {
      "cell_type": "code",
      "metadata": {
        "id": "CHbPMmyHFi6F",
        "colab_type": "code",
        "colab": {}
      },
      "source": [
        "ls -1ha kaggle.json"
      ],
      "execution_count": 0,
      "outputs": []
    },
    {
      "cell_type": "code",
      "metadata": {
        "id": "5xKBbzq_FjJp",
        "colab_type": "code",
        "colab": {}
      },
      "source": [
        "!mkdir -p ~/.kaggle\n",
        "!cp kaggle.json ~/.kaggle/\n",
        "!chmod 600 ~/.kaggle/kaggle.json"
      ],
      "execution_count": 0,
      "outputs": []
    },
    {
      "cell_type": "code",
      "metadata": {
        "id": "Y1jIkWaFFjRb",
        "colab_type": "code",
        "colab": {}
      },
      "source": [
        "#파일 다운로드\n",
        "!kaggle datasets download -d praveengovi/coronahack-chest-xraydataset"
      ],
      "execution_count": 0,
      "outputs": []
    },
    {
      "cell_type": "code",
      "metadata": {
        "id": "sIhKq2rRFjYV",
        "colab_type": "code",
        "colab": {}
      },
      "source": [
        "#현재 파일 확인\n",
        "!ls"
      ],
      "execution_count": 0,
      "outputs": []
    },
    {
      "cell_type": "code",
      "metadata": {
        "id": "Xr1b7-V6Fjga",
        "colab_type": "code",
        "colab": {}
      },
      "source": [
        "#압축해제\n",
        "!unzip coronahack-chest-xraydataset.zip"
      ],
      "execution_count": 0,
      "outputs": []
    },
    {
      "cell_type": "code",
      "metadata": {
        "id": "QxpxVfjsFjoN",
        "colab_type": "code",
        "colab": {}
      },
      "source": [
        "import os\n",
        "import numpy as np\n",
        "import torch\n",
        "from PIL import Image"
      ],
      "execution_count": 0,
      "outputs": []
    },
    {
      "cell_type": "code",
      "metadata": {
        "id": "YdyJL_COFvNc",
        "colab_type": "code",
        "colab": {}
      },
      "source": [
        "#파일 경로\n",
        "train_path='Coronahack-Chest-XRay-Dataset/Coronahack-Chest-XRay-Dataset/train/'\n",
        "test_path='Coronahack-Chest-XRay-Dataset/Coronahack-Chest-XRay-Dataset/test/'"
      ],
      "execution_count": 0,
      "outputs": []
    },
    {
      "cell_type": "code",
      "metadata": {
        "id": "mUX6lpLaFvd4",
        "colab_type": "code",
        "colab": {}
      },
      "source": [
        "#train 파일 리스트에서 normal 데이터 삭제\n",
        "train_files=np.array(os.listdir(train_path))\n",
        "print(train_files[0:10])\n",
        "\n",
        "idx1=[]\n",
        "i=0\n",
        "for i in range(len(train_files)):\n",
        "  if train_files[i][0:2]=='IM':\n",
        "    idx1.append(i)\n",
        "train_files=np.delete(train_files, idx1)\n",
        "print(train_files[0:10])\n",
        "\n",
        "idx2=[]\n",
        "j=0\n",
        "for j in range(len(train_files)):\n",
        "  if train_files[j][0:2]=='NO':\n",
        "    idx2.append(j)\n",
        "train_files=np.delete(train_files, idx2)\n",
        "print(train_files[0:10])"
      ],
      "execution_count": 0,
      "outputs": []
    },
    {
      "cell_type": "code",
      "metadata": {
        "id": "Y24Kz--mFvlY",
        "colab_type": "code",
        "colab": {}
      },
      "source": [
        "#test 파일 리스트에서 normal 데이터 삭제\n",
        "test_files=np.array(os.listdir(test_path))\n",
        "print(test_files[0:10])\n",
        "\n",
        "idx1=[]\n",
        "i=0\n",
        "for i in range(len(test_files)):\n",
        "  if test_files[i][0:2]=='IM':\n",
        "    idx1.append(i)\n",
        "test_files=np.delete(test_files, idx1)\n",
        "print(test_files[0:10])\n",
        "\n",
        "idx2=[]\n",
        "j=0\n",
        "for j in range(len(test_files)):\n",
        "  if test_files[j][0:2]=='NO':\n",
        "    idx2.append(j)\n",
        "test_files=np.delete(test_files, idx2)\n",
        "print(test_files[0:10])"
      ],
      "execution_count": 0,
      "outputs": []
    },
    {
      "cell_type": "code",
      "metadata": {
        "id": "u_g0fF9lGBsj",
        "colab_type": "code",
        "colab": {}
      },
      "source": [
        "#이미지 파일 열기, 각 이미지 (128,128,2) shape으로 저장\n",
        "data=[]\n",
        "\n",
        "for f in test_files:\n",
        "  img = Image.open(test_path + f).convert(\"LA\")\n",
        "  resize_img = img.resize((128, 128))\n",
        "  re_img_arr=np.asarray(resize_img)/255.0\n",
        "  data.append(re_img_arr)\n",
        "\n",
        "print(np.array(data).shape)"
      ],
      "execution_count": 0,
      "outputs": []
    },
    {
      "cell_type": "code",
      "metadata": {
        "id": "4Ak0Hhg0GB1w",
        "colab_type": "code",
        "colab": {}
      },
      "source": [
        "for f in train_files:\n",
        "  img = Image.open(train_path + f).convert(\"LA\")\n",
        "  resize_img = img.resize((128, 128))\n",
        "  re_img_arr=np.asarray(resize_img)/255.0\n",
        "  data.append(re_img_arr)\n",
        "\n",
        "data=np.array(data)\n",
        "print(data.shape)"
      ],
      "execution_count": 0,
      "outputs": []
    },
    {
      "cell_type": "code",
      "metadata": {
        "id": "bGZPtc8tLOlh",
        "colab_type": "code",
        "colab": {}
      },
      "source": [
        "data=torch.tensor(data)\n",
        "X_train, X_test = train_test_split(data, \n",
        "                                  test_size=0.4, \n",
        "                                  shuffle=True, \n",
        "                                  random_state=1004)\n",
        "\n",
        "print(X_train.shape)\n",
        "print(X_test.shape)\n",
        "\n",
        "X_train = X_train.reshape(X_train.shape[0], -1) \n",
        "X_test = X_test.reshape(X_test.shape[0], -1)\n",
        "\n",
        "ones_train = torch.ones(X_train.shape[0], 1, device=X_train.device,dtype=torch.double)\n",
        "X_train = torch.cat([X_train, ones_train], dim=1)\n",
        "ones_test = torch.ones(X_test.shape[0], 1, device=X_test.device,dtype=torch.double)\n",
        "X_test = torch.cat([X_test, ones_test], dim=1)\n",
        "\n",
        "validation_ratio = 0.02\n",
        "num_training = int( X_train.shape[0] * (1.0 - validation_ratio) )\n",
        "num_validation = X_train.shape[0] - num_training\n",
        "\n",
        "data_dict = {}\n",
        "data_dict['X_val'] = X_train[num_training:num_training + num_validation]\n",
        "#data_dict['y_val'] = y_train[num_training:num_training + num_validation]\n",
        "data_dict['X_train'] = X_train[0:num_training]\n",
        "#data_dict['y_train'] = y_train[0:num_training]\n",
        "\n",
        "data_dict['X_test'] = X_test\n",
        "#data_dict['y_test'] = y_test\n",
        "\n",
        "print('-'*40)\n",
        "print(X_train.shape)\n",
        "print(X_test.shape)"
      ],
      "execution_count": 0,
      "outputs": []
    }
  ]
}